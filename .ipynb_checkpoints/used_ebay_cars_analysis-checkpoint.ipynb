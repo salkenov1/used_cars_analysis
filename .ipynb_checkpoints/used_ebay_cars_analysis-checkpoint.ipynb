{
 "cells": [
  {
   "cell_type": "markdown",
   "metadata": {},
   "source": [
    "# The First Data Analysis Project using pandas\n",
    "\n",
    "The dataset was originally scraped and uploaded to Kaggle. It has been made modified from the original dataset that was uploaded to Kaggle:\n",
    "- 50,000 data points has been sampled from the full dataset, to ensure the code runs quickly in a hosted environment\n",
    "- The dataset has been dirtied a bit in order to closely resemble a real world example (the version uploaded to Kaggle was cleaned to be easier to work with)\n",
    "\n",
    "**The aim of this project is to clean the data and analyze the included used car listings. In addition, to become familiar with some of the unique benefits jupyter notebook provides for pandas.**"
   ]
  },
  {
   "cell_type": "markdown",
   "metadata": {},
   "source": [
    "First, let's import the pandas and NumPy libraries"
   ]
  },
  {
   "cell_type": "code",
   "execution_count": 1,
   "metadata": {},
   "outputs": [],
   "source": [
    "import pandas as pd\n",
    "import numpy as np"
   ]
  },
  {
   "cell_type": "code",
   "execution_count": 2,
   "metadata": {},
   "outputs": [],
   "source": [
    "autos = pd.read_csv(\"autos.csv\", encoding=\"Latin-1\")"
   ]
  },
  {
   "cell_type": "code",
   "execution_count": 5,
   "metadata": {
    "scrolled": true
   },
   "outputs": [
    {
     "name": "stdout",
     "output_type": "stream",
     "text": [
      "<class 'pandas.core.frame.DataFrame'>\n",
      "RangeIndex: 50000 entries, 0 to 49999\n",
      "Data columns (total 20 columns):\n",
      "dateCrawled            50000 non-null object\n",
      "name                   50000 non-null object\n",
      "seller                 50000 non-null object\n",
      "offerType              50000 non-null object\n",
      "price                  50000 non-null object\n",
      "abtest                 50000 non-null object\n",
      "vehicleType            44905 non-null object\n",
      "yearOfRegistration     50000 non-null int64\n",
      "gearbox                47320 non-null object\n",
      "powerPS                50000 non-null int64\n",
      "model                  47242 non-null object\n",
      "odometer               50000 non-null object\n",
      "monthOfRegistration    50000 non-null int64\n",
      "fuelType               45518 non-null object\n",
      "brand                  50000 non-null object\n",
      "notRepairedDamage      40171 non-null object\n",
      "dateCreated            50000 non-null object\n",
      "nrOfPictures           50000 non-null int64\n",
      "postalCode             50000 non-null int64\n",
      "lastSeen               50000 non-null object\n",
      "dtypes: int64(5), object(15)\n",
      "memory usage: 7.6+ MB\n"
     ]
    }
   ],
   "source": [
    "autos.info()"
   ]
  },
  {
   "cell_type": "code",
   "execution_count": 6,
   "metadata": {},
   "outputs": [
    {
     "data": {
      "text/html": [
       "<div>\n",
       "<style scoped>\n",
       "    .dataframe tbody tr th:only-of-type {\n",
       "        vertical-align: middle;\n",
       "    }\n",
       "\n",
       "    .dataframe tbody tr th {\n",
       "        vertical-align: top;\n",
       "    }\n",
       "\n",
       "    .dataframe thead th {\n",
       "        text-align: right;\n",
       "    }\n",
       "</style>\n",
       "<table border=\"1\" class=\"dataframe\">\n",
       "  <thead>\n",
       "    <tr style=\"text-align: right;\">\n",
       "      <th></th>\n",
       "      <th>dateCrawled</th>\n",
       "      <th>name</th>\n",
       "      <th>seller</th>\n",
       "      <th>offerType</th>\n",
       "      <th>price</th>\n",
       "      <th>abtest</th>\n",
       "      <th>vehicleType</th>\n",
       "      <th>yearOfRegistration</th>\n",
       "      <th>gearbox</th>\n",
       "      <th>powerPS</th>\n",
       "      <th>model</th>\n",
       "      <th>odometer</th>\n",
       "      <th>monthOfRegistration</th>\n",
       "      <th>fuelType</th>\n",
       "      <th>brand</th>\n",
       "      <th>notRepairedDamage</th>\n",
       "      <th>dateCreated</th>\n",
       "      <th>nrOfPictures</th>\n",
       "      <th>postalCode</th>\n",
       "      <th>lastSeen</th>\n",
       "    </tr>\n",
       "  </thead>\n",
       "  <tbody>\n",
       "    <tr>\n",
       "      <th>0</th>\n",
       "      <td>2016-03-26 17:47:46</td>\n",
       "      <td>Peugeot_807_160_NAVTECH_ON_BOARD</td>\n",
       "      <td>privat</td>\n",
       "      <td>Angebot</td>\n",
       "      <td>$5,000</td>\n",
       "      <td>control</td>\n",
       "      <td>bus</td>\n",
       "      <td>2004</td>\n",
       "      <td>manuell</td>\n",
       "      <td>158</td>\n",
       "      <td>andere</td>\n",
       "      <td>150,000km</td>\n",
       "      <td>3</td>\n",
       "      <td>lpg</td>\n",
       "      <td>peugeot</td>\n",
       "      <td>nein</td>\n",
       "      <td>2016-03-26 00:00:00</td>\n",
       "      <td>0</td>\n",
       "      <td>79588</td>\n",
       "      <td>2016-04-06 06:45:54</td>\n",
       "    </tr>\n",
       "    <tr>\n",
       "      <th>1</th>\n",
       "      <td>2016-04-04 13:38:56</td>\n",
       "      <td>BMW_740i_4_4_Liter_HAMANN_UMBAU_Mega_Optik</td>\n",
       "      <td>privat</td>\n",
       "      <td>Angebot</td>\n",
       "      <td>$8,500</td>\n",
       "      <td>control</td>\n",
       "      <td>limousine</td>\n",
       "      <td>1997</td>\n",
       "      <td>automatik</td>\n",
       "      <td>286</td>\n",
       "      <td>7er</td>\n",
       "      <td>150,000km</td>\n",
       "      <td>6</td>\n",
       "      <td>benzin</td>\n",
       "      <td>bmw</td>\n",
       "      <td>nein</td>\n",
       "      <td>2016-04-04 00:00:00</td>\n",
       "      <td>0</td>\n",
       "      <td>71034</td>\n",
       "      <td>2016-04-06 14:45:08</td>\n",
       "    </tr>\n",
       "    <tr>\n",
       "      <th>2</th>\n",
       "      <td>2016-03-26 18:57:24</td>\n",
       "      <td>Volkswagen_Golf_1.6_United</td>\n",
       "      <td>privat</td>\n",
       "      <td>Angebot</td>\n",
       "      <td>$8,990</td>\n",
       "      <td>test</td>\n",
       "      <td>limousine</td>\n",
       "      <td>2009</td>\n",
       "      <td>manuell</td>\n",
       "      <td>102</td>\n",
       "      <td>golf</td>\n",
       "      <td>70,000km</td>\n",
       "      <td>7</td>\n",
       "      <td>benzin</td>\n",
       "      <td>volkswagen</td>\n",
       "      <td>nein</td>\n",
       "      <td>2016-03-26 00:00:00</td>\n",
       "      <td>0</td>\n",
       "      <td>35394</td>\n",
       "      <td>2016-04-06 20:15:37</td>\n",
       "    </tr>\n",
       "    <tr>\n",
       "      <th>3</th>\n",
       "      <td>2016-03-12 16:58:10</td>\n",
       "      <td>Smart_smart_fortwo_coupe_softouch/F1/Klima/Pan...</td>\n",
       "      <td>privat</td>\n",
       "      <td>Angebot</td>\n",
       "      <td>$4,350</td>\n",
       "      <td>control</td>\n",
       "      <td>kleinwagen</td>\n",
       "      <td>2007</td>\n",
       "      <td>automatik</td>\n",
       "      <td>71</td>\n",
       "      <td>fortwo</td>\n",
       "      <td>70,000km</td>\n",
       "      <td>6</td>\n",
       "      <td>benzin</td>\n",
       "      <td>smart</td>\n",
       "      <td>nein</td>\n",
       "      <td>2016-03-12 00:00:00</td>\n",
       "      <td>0</td>\n",
       "      <td>33729</td>\n",
       "      <td>2016-03-15 03:16:28</td>\n",
       "    </tr>\n",
       "    <tr>\n",
       "      <th>4</th>\n",
       "      <td>2016-04-01 14:38:50</td>\n",
       "      <td>Ford_Focus_1_6_Benzin_TÜV_neu_ist_sehr_gepfleg...</td>\n",
       "      <td>privat</td>\n",
       "      <td>Angebot</td>\n",
       "      <td>$1,350</td>\n",
       "      <td>test</td>\n",
       "      <td>kombi</td>\n",
       "      <td>2003</td>\n",
       "      <td>manuell</td>\n",
       "      <td>0</td>\n",
       "      <td>focus</td>\n",
       "      <td>150,000km</td>\n",
       "      <td>7</td>\n",
       "      <td>benzin</td>\n",
       "      <td>ford</td>\n",
       "      <td>nein</td>\n",
       "      <td>2016-04-01 00:00:00</td>\n",
       "      <td>0</td>\n",
       "      <td>39218</td>\n",
       "      <td>2016-04-01 14:38:50</td>\n",
       "    </tr>\n",
       "    <tr>\n",
       "      <th>5</th>\n",
       "      <td>2016-03-21 13:47:45</td>\n",
       "      <td>Chrysler_Grand_Voyager_2.8_CRD_Aut.Limited_Sto...</td>\n",
       "      <td>privat</td>\n",
       "      <td>Angebot</td>\n",
       "      <td>$7,900</td>\n",
       "      <td>test</td>\n",
       "      <td>bus</td>\n",
       "      <td>2006</td>\n",
       "      <td>automatik</td>\n",
       "      <td>150</td>\n",
       "      <td>voyager</td>\n",
       "      <td>150,000km</td>\n",
       "      <td>4</td>\n",
       "      <td>diesel</td>\n",
       "      <td>chrysler</td>\n",
       "      <td>NaN</td>\n",
       "      <td>2016-03-21 00:00:00</td>\n",
       "      <td>0</td>\n",
       "      <td>22962</td>\n",
       "      <td>2016-04-06 09:45:21</td>\n",
       "    </tr>\n",
       "    <tr>\n",
       "      <th>6</th>\n",
       "      <td>2016-03-20 17:55:21</td>\n",
       "      <td>VW_Golf_III_GT_Special_Electronic_Green_Metall...</td>\n",
       "      <td>privat</td>\n",
       "      <td>Angebot</td>\n",
       "      <td>$300</td>\n",
       "      <td>test</td>\n",
       "      <td>limousine</td>\n",
       "      <td>1995</td>\n",
       "      <td>manuell</td>\n",
       "      <td>90</td>\n",
       "      <td>golf</td>\n",
       "      <td>150,000km</td>\n",
       "      <td>8</td>\n",
       "      <td>benzin</td>\n",
       "      <td>volkswagen</td>\n",
       "      <td>NaN</td>\n",
       "      <td>2016-03-20 00:00:00</td>\n",
       "      <td>0</td>\n",
       "      <td>31535</td>\n",
       "      <td>2016-03-23 02:48:59</td>\n",
       "    </tr>\n",
       "    <tr>\n",
       "      <th>7</th>\n",
       "      <td>2016-03-16 18:55:19</td>\n",
       "      <td>Golf_IV_1.9_TDI_90PS</td>\n",
       "      <td>privat</td>\n",
       "      <td>Angebot</td>\n",
       "      <td>$1,990</td>\n",
       "      <td>control</td>\n",
       "      <td>limousine</td>\n",
       "      <td>1998</td>\n",
       "      <td>manuell</td>\n",
       "      <td>90</td>\n",
       "      <td>golf</td>\n",
       "      <td>150,000km</td>\n",
       "      <td>12</td>\n",
       "      <td>diesel</td>\n",
       "      <td>volkswagen</td>\n",
       "      <td>nein</td>\n",
       "      <td>2016-03-16 00:00:00</td>\n",
       "      <td>0</td>\n",
       "      <td>53474</td>\n",
       "      <td>2016-04-07 03:17:32</td>\n",
       "    </tr>\n",
       "    <tr>\n",
       "      <th>8</th>\n",
       "      <td>2016-03-22 16:51:34</td>\n",
       "      <td>Seat_Arosa</td>\n",
       "      <td>privat</td>\n",
       "      <td>Angebot</td>\n",
       "      <td>$250</td>\n",
       "      <td>test</td>\n",
       "      <td>NaN</td>\n",
       "      <td>2000</td>\n",
       "      <td>manuell</td>\n",
       "      <td>0</td>\n",
       "      <td>arosa</td>\n",
       "      <td>150,000km</td>\n",
       "      <td>10</td>\n",
       "      <td>NaN</td>\n",
       "      <td>seat</td>\n",
       "      <td>nein</td>\n",
       "      <td>2016-03-22 00:00:00</td>\n",
       "      <td>0</td>\n",
       "      <td>7426</td>\n",
       "      <td>2016-03-26 18:18:10</td>\n",
       "    </tr>\n",
       "    <tr>\n",
       "      <th>9</th>\n",
       "      <td>2016-03-16 13:47:02</td>\n",
       "      <td>Renault_Megane_Scenic_1.6e_RT_Klimaanlage</td>\n",
       "      <td>privat</td>\n",
       "      <td>Angebot</td>\n",
       "      <td>$590</td>\n",
       "      <td>control</td>\n",
       "      <td>bus</td>\n",
       "      <td>1997</td>\n",
       "      <td>manuell</td>\n",
       "      <td>90</td>\n",
       "      <td>megane</td>\n",
       "      <td>150,000km</td>\n",
       "      <td>7</td>\n",
       "      <td>benzin</td>\n",
       "      <td>renault</td>\n",
       "      <td>nein</td>\n",
       "      <td>2016-03-16 00:00:00</td>\n",
       "      <td>0</td>\n",
       "      <td>15749</td>\n",
       "      <td>2016-04-06 10:46:35</td>\n",
       "    </tr>\n",
       "  </tbody>\n",
       "</table>\n",
       "</div>"
      ],
      "text/plain": [
       "           dateCrawled                                               name  \\\n",
       "0  2016-03-26 17:47:46                   Peugeot_807_160_NAVTECH_ON_BOARD   \n",
       "1  2016-04-04 13:38:56         BMW_740i_4_4_Liter_HAMANN_UMBAU_Mega_Optik   \n",
       "2  2016-03-26 18:57:24                         Volkswagen_Golf_1.6_United   \n",
       "3  2016-03-12 16:58:10  Smart_smart_fortwo_coupe_softouch/F1/Klima/Pan...   \n",
       "4  2016-04-01 14:38:50  Ford_Focus_1_6_Benzin_TÜV_neu_ist_sehr_gepfleg...   \n",
       "5  2016-03-21 13:47:45  Chrysler_Grand_Voyager_2.8_CRD_Aut.Limited_Sto...   \n",
       "6  2016-03-20 17:55:21  VW_Golf_III_GT_Special_Electronic_Green_Metall...   \n",
       "7  2016-03-16 18:55:19                               Golf_IV_1.9_TDI_90PS   \n",
       "8  2016-03-22 16:51:34                                         Seat_Arosa   \n",
       "9  2016-03-16 13:47:02          Renault_Megane_Scenic_1.6e_RT_Klimaanlage   \n",
       "\n",
       "   seller offerType   price   abtest vehicleType  yearOfRegistration  \\\n",
       "0  privat   Angebot  $5,000  control         bus                2004   \n",
       "1  privat   Angebot  $8,500  control   limousine                1997   \n",
       "2  privat   Angebot  $8,990     test   limousine                2009   \n",
       "3  privat   Angebot  $4,350  control  kleinwagen                2007   \n",
       "4  privat   Angebot  $1,350     test       kombi                2003   \n",
       "5  privat   Angebot  $7,900     test         bus                2006   \n",
       "6  privat   Angebot    $300     test   limousine                1995   \n",
       "7  privat   Angebot  $1,990  control   limousine                1998   \n",
       "8  privat   Angebot    $250     test         NaN                2000   \n",
       "9  privat   Angebot    $590  control         bus                1997   \n",
       "\n",
       "     gearbox  powerPS    model   odometer  monthOfRegistration fuelType  \\\n",
       "0    manuell      158   andere  150,000km                    3      lpg   \n",
       "1  automatik      286      7er  150,000km                    6   benzin   \n",
       "2    manuell      102     golf   70,000km                    7   benzin   \n",
       "3  automatik       71   fortwo   70,000km                    6   benzin   \n",
       "4    manuell        0    focus  150,000km                    7   benzin   \n",
       "5  automatik      150  voyager  150,000km                    4   diesel   \n",
       "6    manuell       90     golf  150,000km                    8   benzin   \n",
       "7    manuell       90     golf  150,000km                   12   diesel   \n",
       "8    manuell        0    arosa  150,000km                   10      NaN   \n",
       "9    manuell       90   megane  150,000km                    7   benzin   \n",
       "\n",
       "        brand notRepairedDamage          dateCreated  nrOfPictures  \\\n",
       "0     peugeot              nein  2016-03-26 00:00:00             0   \n",
       "1         bmw              nein  2016-04-04 00:00:00             0   \n",
       "2  volkswagen              nein  2016-03-26 00:00:00             0   \n",
       "3       smart              nein  2016-03-12 00:00:00             0   \n",
       "4        ford              nein  2016-04-01 00:00:00             0   \n",
       "5    chrysler               NaN  2016-03-21 00:00:00             0   \n",
       "6  volkswagen               NaN  2016-03-20 00:00:00             0   \n",
       "7  volkswagen              nein  2016-03-16 00:00:00             0   \n",
       "8        seat              nein  2016-03-22 00:00:00             0   \n",
       "9     renault              nein  2016-03-16 00:00:00             0   \n",
       "\n",
       "   postalCode             lastSeen  \n",
       "0       79588  2016-04-06 06:45:54  \n",
       "1       71034  2016-04-06 14:45:08  \n",
       "2       35394  2016-04-06 20:15:37  \n",
       "3       33729  2016-03-15 03:16:28  \n",
       "4       39218  2016-04-01 14:38:50  \n",
       "5       22962  2016-04-06 09:45:21  \n",
       "6       31535  2016-03-23 02:48:59  \n",
       "7       53474  2016-04-07 03:17:32  \n",
       "8        7426  2016-03-26 18:18:10  \n",
       "9       15749  2016-04-06 10:46:35  "
      ]
     },
     "execution_count": 6,
     "metadata": {},
     "output_type": "execute_result"
    }
   ],
   "source": [
    "autos.head(10)"
   ]
  },
  {
   "cell_type": "markdown",
   "metadata": {},
   "source": [
    "As clearly seen in the cell above, we can see following observations:\n",
    "- The dataset contains 20 columns, most of them are strings\n",
    "- Some columns have null values, overall percentage of null values are less than ~20%\n",
    "- The columns names are defined using camalCase, not snake_case\n",
    "- Most of the values are written in German\n",
    "\n",
    "Let's convert the column names from camelcase to snakecase and reword some of the column names based on the data dictionary to be more descriptive."
   ]
  },
  {
   "cell_type": "code",
   "execution_count": 3,
   "metadata": {},
   "outputs": [
    {
     "data": {
      "text/plain": [
       "Index(['date_crawled', 'name', 'seller', 'offer_type', 'price', 'ab_test',\n",
       "       'vehicle_type', 'registration_year', 'gearbox', 'power_ps', 'model',\n",
       "       'odometer', 'registration_month', 'fuel_type', 'brand',\n",
       "       'unrepaired_damage', 'ad_created', 'number_of_pictures', 'postal_code',\n",
       "       'last_seen'],\n",
       "      dtype='object')"
      ]
     },
     "execution_count": 3,
     "metadata": {},
     "output_type": "execute_result"
    }
   ],
   "source": [
    "new_columns = ['date_crawled', 'name', 'seller', 'offer_type', 'price', 'ab_test',\n",
    "       'vehicle_type', 'registration_year', 'gearbox', 'power_ps', 'model',\n",
    "       'odometer', 'registration_month', 'fuel_type', 'brand',\n",
    "       'unrepaired_damage', 'ad_created', 'number_of_pictures', 'postal_code',\n",
    "       'last_seen']\n",
    "autos.columns = new_columns\n",
    "autos.columns"
   ]
  },
  {
   "cell_type": "markdown",
   "metadata": {},
   "source": [
    "The data dictionary provided with data is as follows:\n",
    "\n",
    "| index_number | Label               | Description                                                                |\n",
    "|--------------|---------------------|----------------------------------------------------------------------------|\n",
    "| 0            | date_crawled        | When this ad was first crawled. All field-values are taken from this date. |\n",
    "| 1            | name                | Name of the car.                                                           |\n",
    "| 2            | seller              | Whether the seller is private or a dealer.                                 |\n",
    "| 3            | offer_type          | The type of listing                                                        |\n",
    "| 4            | price               | The price on the ad to sell the car.                                       |\n",
    "| 5            | ab_test             | Whether the listing is included in an A/B test.                            |\n",
    "| 6            | vehicle_type        | The type of the vehicle                                                    |\n",
    "| 7            | registration_year   | The year in which the car was first registered.                            |\n",
    "| 8            | gearbox             | The transmission type.                                                     |\n",
    "| 9            | power_ps            | The power of the car in PS.                                                |\n",
    "| 10           | model               | The car model name.                                                        |\n",
    "| 11           | odometer            | How many kilometers the car has driven.                                    |\n",
    "| 12           | registration_month  | The month in which the car was first registered.                           |\n",
    "| 13           | fuel_type           | What type of fuel the car uses.                                            |\n",
    "| 14           | brand               | The brand of the car.                                                      |\n",
    "| 15           | unrepaired_damage   | If the car has a damage which is not yet repaired.                         |\n",
    "| 16           | ad_created          | The date on which the eBay listing was created.                            |\n",
    "| 17           | number_of_pictures  | The number of pictures in the ad.                                          |\n",
    "| 18           | postal_code         | The postal code for the location of the vehicle.                           |\n",
    "| 19           | last_seen           | When the crawler saw this ad last online.                                  |"
   ]
  },
  {
   "cell_type": "markdown",
   "metadata": {},
   "source": [
    "Secondly, we need to convert German words into English words\n",
    "1. Create a map with german words and their respective words in English\n",
    "2. Apply to our dataset"
   ]
  },
  {
   "cell_type": "code",
   "execution_count": 8,
   "metadata": {},
   "outputs": [
    {
     "name": "stdout",
     "output_type": "stream",
     "text": [
      "['privat' 'gewerblich']\n",
      "['control' 'test']\n",
      "['bus' 'limousine' 'kleinwagen' 'kombi' nan 'coupe' 'suv' 'cabrio'\n",
      " 'andere']\n",
      "['manuell' 'automatik' nan]\n",
      "['lpg' 'benzin' 'diesel' nan 'cng' 'hybrid' 'elektro' 'andere']\n",
      "['nein' nan 'ja']\n"
     ]
    }
   ],
   "source": [
    "print(autos[\"seller\"].unique())\n",
    "print(autos[\"ab_test\"].unique())\n",
    "print(autos[\"vehicle_type\"].unique())\n",
    "print(autos[\"gearbox\"].unique())\n",
    "print(autos[\"fuel_type\"].unique())\n",
    "print(autos[\"unrepaired_damage\"].unique())"
   ]
  },
  {
   "cell_type": "code",
   "execution_count": 4,
   "metadata": {},
   "outputs": [],
   "source": [
    "english_words = {\"privat\":\"private\",\n",
    "                 \"gewerblich\":\"commercial\",\n",
    "                 \"bus\":\"bus\",\n",
    "                 \"kombi\":\"microbus\",\n",
    "                 \"limousine\":\"limousine\",\n",
    "                 \"kleinwagen\":\"supermini\",\n",
    "                 \"coupe\":\"coupe\",\n",
    "                 \"suv\":\"suv\",\n",
    "                 \"cabrio\":\"convertible\",\n",
    "                 \"andere\":\"other\",\n",
    "                 \"manuell\":\"manual\",\n",
    "                 \"automatik\":\"automatic\",\n",
    "                 \"lpg\":\"lpg\",\n",
    "                 \"benzin\":\"gas\",\n",
    "                 \"diesel\":\"diesel\",\n",
    "                 \"cng\":\"cng\",\n",
    "                 \"hybrid\":\"hybrid\",\n",
    "                 \"elektro\":\"electro\",\n",
    "                 \"nein\":\"no\",\n",
    "                 \"ja\":\"yes\"}\n",
    "autos[\"seller\"] = autos[\"seller\"].map(english_words)\n",
    "autos[\"ab_test\"] = autos[\"ab_test\"].map(english_words)\n",
    "autos[\"vehicle_type\"] = autos[\"vehicle_type\"].map(english_words)\n",
    "autos[\"gearbox\"] = autos[\"gearbox\"].map(english_words)\n",
    "autos[\"fuel_type\"] = autos[\"fuel_type\"].map(english_words)\n",
    "autos[\"unrepaired_damage\"] = autos[\"unrepaired_damage\"].map(english_words) # use it only once"
   ]
  },
  {
   "cell_type": "markdown",
   "metadata": {},
   "source": [
    "Thirdly, look for 3 types of columns:\n",
    "- Any columns that have mostly one value that are candidates to be dropped\n",
    "- Any columns that need more investigation.\n",
    "\n",
    "| index_number | Label               | Description                                                                |\n",
    "|--------------|---------------------|----------------------------------------------------------------------------|\n",
    "| 0            | date_crawled        | When this ad was first crawled. All field-values are taken from this date. |\n",
    "| 16           | ad_created          | The date on which the eBay listing was created.                            |\n",
    "| 19           | last_seen           | When the crawler saw this ad last online.                                  |\n",
    "\n",
    "- Any examples of numeric data stored as text that needs to be cleaned.\n",
    "\n",
    "| index_number | Label               | Description                                                                |\n",
    "|--------------|---------------------|----------------------------------------------------------------------------|\n",
    "| 4            | price               | The price on the ad to sell the car.                                       |\n",
    "| 11           | odometer            | How many kilometers the car has driven.                                    |\n",
    "\n",
    "1. Let's remove any non-numeric characters\n",
    "2. Convert the columns to a numeric values\n",
    "3. Rename the columns accordingly"
   ]
  },
  {
   "cell_type": "code",
   "execution_count": 5,
   "metadata": {},
   "outputs": [],
   "source": [
    "autos[\"odometer\"] = autos[\"odometer\"].str.strip().str.replace(\"km\", \"\").str.replace(\",\", \"\").astype(int)\n",
    "autos[\"price\"] = autos[\"price\"].str.strip().str.replace(\"$\", \"\").str.replace(\",\", \"\").astype(int)\n",
    "autos.rename(columns={\"price\":\"price_dollars\", \"odometer\":\"odometer_km\"}, inplace=True)"
   ]
  },
  {
   "cell_type": "markdown",
   "metadata": {},
   "source": [
    "We will drop a few columns (ab_test, seller and offer type) because they do not provide any usefull information since the results are monothonic."
   ]
  },
  {
   "cell_type": "code",
   "execution_count": 6,
   "metadata": {},
   "outputs": [],
   "source": [
    "autos = autos.drop([\"ab_test\", \"seller\", \"offer_type\"], axis=1)"
   ]
  },
  {
   "cell_type": "code",
   "execution_count": 12,
   "metadata": {},
   "outputs": [
    {
     "data": {
      "text/html": [
       "<div>\n",
       "<style scoped>\n",
       "    .dataframe tbody tr th:only-of-type {\n",
       "        vertical-align: middle;\n",
       "    }\n",
       "\n",
       "    .dataframe tbody tr th {\n",
       "        vertical-align: top;\n",
       "    }\n",
       "\n",
       "    .dataframe thead th {\n",
       "        text-align: right;\n",
       "    }\n",
       "</style>\n",
       "<table border=\"1\" class=\"dataframe\">\n",
       "  <thead>\n",
       "    <tr style=\"text-align: right;\">\n",
       "      <th></th>\n",
       "      <th>date_crawled</th>\n",
       "      <th>name</th>\n",
       "      <th>price_dollars</th>\n",
       "      <th>vehicle_type</th>\n",
       "      <th>registration_year</th>\n",
       "      <th>gearbox</th>\n",
       "      <th>power_ps</th>\n",
       "      <th>model</th>\n",
       "      <th>odometer_km</th>\n",
       "      <th>registration_month</th>\n",
       "      <th>fuel_type</th>\n",
       "      <th>brand</th>\n",
       "      <th>unrepaired_damage</th>\n",
       "      <th>ad_created</th>\n",
       "      <th>number_of_pictures</th>\n",
       "      <th>postal_code</th>\n",
       "      <th>last_seen</th>\n",
       "    </tr>\n",
       "  </thead>\n",
       "  <tbody>\n",
       "    <tr>\n",
       "      <th>0</th>\n",
       "      <td>2016-03-26 17:47:46</td>\n",
       "      <td>Peugeot_807_160_NAVTECH_ON_BOARD</td>\n",
       "      <td>5000</td>\n",
       "      <td>bus</td>\n",
       "      <td>2004</td>\n",
       "      <td>manual</td>\n",
       "      <td>158</td>\n",
       "      <td>andere</td>\n",
       "      <td>150000</td>\n",
       "      <td>3</td>\n",
       "      <td>lpg</td>\n",
       "      <td>peugeot</td>\n",
       "      <td>no</td>\n",
       "      <td>2016-03-26 00:00:00</td>\n",
       "      <td>0</td>\n",
       "      <td>79588</td>\n",
       "      <td>2016-04-06 06:45:54</td>\n",
       "    </tr>\n",
       "    <tr>\n",
       "      <th>1</th>\n",
       "      <td>2016-04-04 13:38:56</td>\n",
       "      <td>BMW_740i_4_4_Liter_HAMANN_UMBAU_Mega_Optik</td>\n",
       "      <td>8500</td>\n",
       "      <td>limousine</td>\n",
       "      <td>1997</td>\n",
       "      <td>automatic</td>\n",
       "      <td>286</td>\n",
       "      <td>7er</td>\n",
       "      <td>150000</td>\n",
       "      <td>6</td>\n",
       "      <td>gas</td>\n",
       "      <td>bmw</td>\n",
       "      <td>no</td>\n",
       "      <td>2016-04-04 00:00:00</td>\n",
       "      <td>0</td>\n",
       "      <td>71034</td>\n",
       "      <td>2016-04-06 14:45:08</td>\n",
       "    </tr>\n",
       "    <tr>\n",
       "      <th>2</th>\n",
       "      <td>2016-03-26 18:57:24</td>\n",
       "      <td>Volkswagen_Golf_1.6_United</td>\n",
       "      <td>8990</td>\n",
       "      <td>limousine</td>\n",
       "      <td>2009</td>\n",
       "      <td>manual</td>\n",
       "      <td>102</td>\n",
       "      <td>golf</td>\n",
       "      <td>70000</td>\n",
       "      <td>7</td>\n",
       "      <td>gas</td>\n",
       "      <td>volkswagen</td>\n",
       "      <td>no</td>\n",
       "      <td>2016-03-26 00:00:00</td>\n",
       "      <td>0</td>\n",
       "      <td>35394</td>\n",
       "      <td>2016-04-06 20:15:37</td>\n",
       "    </tr>\n",
       "    <tr>\n",
       "      <th>3</th>\n",
       "      <td>2016-03-12 16:58:10</td>\n",
       "      <td>Smart_smart_fortwo_coupe_softouch/F1/Klima/Pan...</td>\n",
       "      <td>4350</td>\n",
       "      <td>supermini</td>\n",
       "      <td>2007</td>\n",
       "      <td>automatic</td>\n",
       "      <td>71</td>\n",
       "      <td>fortwo</td>\n",
       "      <td>70000</td>\n",
       "      <td>6</td>\n",
       "      <td>gas</td>\n",
       "      <td>smart</td>\n",
       "      <td>no</td>\n",
       "      <td>2016-03-12 00:00:00</td>\n",
       "      <td>0</td>\n",
       "      <td>33729</td>\n",
       "      <td>2016-03-15 03:16:28</td>\n",
       "    </tr>\n",
       "    <tr>\n",
       "      <th>4</th>\n",
       "      <td>2016-04-01 14:38:50</td>\n",
       "      <td>Ford_Focus_1_6_Benzin_TÜV_neu_ist_sehr_gepfleg...</td>\n",
       "      <td>1350</td>\n",
       "      <td>microbus</td>\n",
       "      <td>2003</td>\n",
       "      <td>manual</td>\n",
       "      <td>0</td>\n",
       "      <td>focus</td>\n",
       "      <td>150000</td>\n",
       "      <td>7</td>\n",
       "      <td>gas</td>\n",
       "      <td>ford</td>\n",
       "      <td>no</td>\n",
       "      <td>2016-04-01 00:00:00</td>\n",
       "      <td>0</td>\n",
       "      <td>39218</td>\n",
       "      <td>2016-04-01 14:38:50</td>\n",
       "    </tr>\n",
       "    <tr>\n",
       "      <th>5</th>\n",
       "      <td>2016-03-21 13:47:45</td>\n",
       "      <td>Chrysler_Grand_Voyager_2.8_CRD_Aut.Limited_Sto...</td>\n",
       "      <td>7900</td>\n",
       "      <td>bus</td>\n",
       "      <td>2006</td>\n",
       "      <td>automatic</td>\n",
       "      <td>150</td>\n",
       "      <td>voyager</td>\n",
       "      <td>150000</td>\n",
       "      <td>4</td>\n",
       "      <td>diesel</td>\n",
       "      <td>chrysler</td>\n",
       "      <td>NaN</td>\n",
       "      <td>2016-03-21 00:00:00</td>\n",
       "      <td>0</td>\n",
       "      <td>22962</td>\n",
       "      <td>2016-04-06 09:45:21</td>\n",
       "    </tr>\n",
       "    <tr>\n",
       "      <th>6</th>\n",
       "      <td>2016-03-20 17:55:21</td>\n",
       "      <td>VW_Golf_III_GT_Special_Electronic_Green_Metall...</td>\n",
       "      <td>300</td>\n",
       "      <td>limousine</td>\n",
       "      <td>1995</td>\n",
       "      <td>manual</td>\n",
       "      <td>90</td>\n",
       "      <td>golf</td>\n",
       "      <td>150000</td>\n",
       "      <td>8</td>\n",
       "      <td>gas</td>\n",
       "      <td>volkswagen</td>\n",
       "      <td>NaN</td>\n",
       "      <td>2016-03-20 00:00:00</td>\n",
       "      <td>0</td>\n",
       "      <td>31535</td>\n",
       "      <td>2016-03-23 02:48:59</td>\n",
       "    </tr>\n",
       "    <tr>\n",
       "      <th>7</th>\n",
       "      <td>2016-03-16 18:55:19</td>\n",
       "      <td>Golf_IV_1.9_TDI_90PS</td>\n",
       "      <td>1990</td>\n",
       "      <td>limousine</td>\n",
       "      <td>1998</td>\n",
       "      <td>manual</td>\n",
       "      <td>90</td>\n",
       "      <td>golf</td>\n",
       "      <td>150000</td>\n",
       "      <td>12</td>\n",
       "      <td>diesel</td>\n",
       "      <td>volkswagen</td>\n",
       "      <td>no</td>\n",
       "      <td>2016-03-16 00:00:00</td>\n",
       "      <td>0</td>\n",
       "      <td>53474</td>\n",
       "      <td>2016-04-07 03:17:32</td>\n",
       "    </tr>\n",
       "    <tr>\n",
       "      <th>8</th>\n",
       "      <td>2016-03-22 16:51:34</td>\n",
       "      <td>Seat_Arosa</td>\n",
       "      <td>250</td>\n",
       "      <td>NaN</td>\n",
       "      <td>2000</td>\n",
       "      <td>manual</td>\n",
       "      <td>0</td>\n",
       "      <td>arosa</td>\n",
       "      <td>150000</td>\n",
       "      <td>10</td>\n",
       "      <td>NaN</td>\n",
       "      <td>seat</td>\n",
       "      <td>no</td>\n",
       "      <td>2016-03-22 00:00:00</td>\n",
       "      <td>0</td>\n",
       "      <td>7426</td>\n",
       "      <td>2016-03-26 18:18:10</td>\n",
       "    </tr>\n",
       "    <tr>\n",
       "      <th>9</th>\n",
       "      <td>2016-03-16 13:47:02</td>\n",
       "      <td>Renault_Megane_Scenic_1.6e_RT_Klimaanlage</td>\n",
       "      <td>590</td>\n",
       "      <td>bus</td>\n",
       "      <td>1997</td>\n",
       "      <td>manual</td>\n",
       "      <td>90</td>\n",
       "      <td>megane</td>\n",
       "      <td>150000</td>\n",
       "      <td>7</td>\n",
       "      <td>gas</td>\n",
       "      <td>renault</td>\n",
       "      <td>no</td>\n",
       "      <td>2016-03-16 00:00:00</td>\n",
       "      <td>0</td>\n",
       "      <td>15749</td>\n",
       "      <td>2016-04-06 10:46:35</td>\n",
       "    </tr>\n",
       "  </tbody>\n",
       "</table>\n",
       "</div>"
      ],
      "text/plain": [
       "          date_crawled                                               name  \\\n",
       "0  2016-03-26 17:47:46                   Peugeot_807_160_NAVTECH_ON_BOARD   \n",
       "1  2016-04-04 13:38:56         BMW_740i_4_4_Liter_HAMANN_UMBAU_Mega_Optik   \n",
       "2  2016-03-26 18:57:24                         Volkswagen_Golf_1.6_United   \n",
       "3  2016-03-12 16:58:10  Smart_smart_fortwo_coupe_softouch/F1/Klima/Pan...   \n",
       "4  2016-04-01 14:38:50  Ford_Focus_1_6_Benzin_TÜV_neu_ist_sehr_gepfleg...   \n",
       "5  2016-03-21 13:47:45  Chrysler_Grand_Voyager_2.8_CRD_Aut.Limited_Sto...   \n",
       "6  2016-03-20 17:55:21  VW_Golf_III_GT_Special_Electronic_Green_Metall...   \n",
       "7  2016-03-16 18:55:19                               Golf_IV_1.9_TDI_90PS   \n",
       "8  2016-03-22 16:51:34                                         Seat_Arosa   \n",
       "9  2016-03-16 13:47:02          Renault_Megane_Scenic_1.6e_RT_Klimaanlage   \n",
       "\n",
       "   price_dollars vehicle_type  registration_year    gearbox  power_ps  \\\n",
       "0           5000          bus               2004     manual       158   \n",
       "1           8500    limousine               1997  automatic       286   \n",
       "2           8990    limousine               2009     manual       102   \n",
       "3           4350    supermini               2007  automatic        71   \n",
       "4           1350     microbus               2003     manual         0   \n",
       "5           7900          bus               2006  automatic       150   \n",
       "6            300    limousine               1995     manual        90   \n",
       "7           1990    limousine               1998     manual        90   \n",
       "8            250          NaN               2000     manual         0   \n",
       "9            590          bus               1997     manual        90   \n",
       "\n",
       "     model  odometer_km  registration_month fuel_type       brand  \\\n",
       "0   andere       150000                   3       lpg     peugeot   \n",
       "1      7er       150000                   6       gas         bmw   \n",
       "2     golf        70000                   7       gas  volkswagen   \n",
       "3   fortwo        70000                   6       gas       smart   \n",
       "4    focus       150000                   7       gas        ford   \n",
       "5  voyager       150000                   4    diesel    chrysler   \n",
       "6     golf       150000                   8       gas  volkswagen   \n",
       "7     golf       150000                  12    diesel  volkswagen   \n",
       "8    arosa       150000                  10       NaN        seat   \n",
       "9   megane       150000                   7       gas     renault   \n",
       "\n",
       "  unrepaired_damage           ad_created  number_of_pictures  postal_code  \\\n",
       "0                no  2016-03-26 00:00:00                   0        79588   \n",
       "1                no  2016-04-04 00:00:00                   0        71034   \n",
       "2                no  2016-03-26 00:00:00                   0        35394   \n",
       "3                no  2016-03-12 00:00:00                   0        33729   \n",
       "4                no  2016-04-01 00:00:00                   0        39218   \n",
       "5               NaN  2016-03-21 00:00:00                   0        22962   \n",
       "6               NaN  2016-03-20 00:00:00                   0        31535   \n",
       "7                no  2016-03-16 00:00:00                   0        53474   \n",
       "8                no  2016-03-22 00:00:00                   0         7426   \n",
       "9                no  2016-03-16 00:00:00                   0        15749   \n",
       "\n",
       "             last_seen  \n",
       "0  2016-04-06 06:45:54  \n",
       "1  2016-04-06 14:45:08  \n",
       "2  2016-04-06 20:15:37  \n",
       "3  2016-03-15 03:16:28  \n",
       "4  2016-04-01 14:38:50  \n",
       "5  2016-04-06 09:45:21  \n",
       "6  2016-03-23 02:48:59  \n",
       "7  2016-04-07 03:17:32  \n",
       "8  2016-03-26 18:18:10  \n",
       "9  2016-04-06 10:46:35  "
      ]
     },
     "execution_count": 12,
     "metadata": {},
     "output_type": "execute_result"
    }
   ],
   "source": [
    "autos.head(10)"
   ]
  },
  {
   "cell_type": "markdown",
   "metadata": {},
   "source": [
    "Let's continue exploring the data, specifically looking for data that doesn't look right. Start by analyzing the odometer_km and price columns. Here's the steps:\n",
    "\n",
    "1. Analyze the columns using minimum and maximum values and look for any values that look unrealistically high or low (outliers) that we might want to remove.\n",
    "\n",
    "Use:\n",
    "- Series.unique().shape to see how many unique values\n",
    "- Series.describe() to view min/max/median/mean etc\n",
    "- Series.value_counts(), with some variations: *chained to .head() if there are lots of values.*\n",
    "\n",
    "Because Series.value_counts() returns a series, we can use Series.sort_index() with ascending= True or False to view the highest and lowest values with their counts (can also chain to head() here).\n",
    "\n",
    "When removing outliers, we can do **df[(df[\"col\"] > x ) & (df[\"col\"] < y )]**, but it's more readable to use **df[df[\"col\"].between(x,y)]**"
   ]
  },
  {
   "cell_type": "code",
   "execution_count": 13,
   "metadata": {},
   "outputs": [
    {
     "data": {
      "text/plain": [
       "(2357,)"
      ]
     },
     "execution_count": 13,
     "metadata": {},
     "output_type": "execute_result"
    }
   ],
   "source": [
    "autos[\"price_dollars\"].unique().shape"
   ]
  },
  {
   "cell_type": "code",
   "execution_count": 14,
   "metadata": {},
   "outputs": [
    {
     "data": {
      "text/plain": [
       "count    5.000000e+04\n",
       "mean     9.840044e+03\n",
       "std      4.811044e+05\n",
       "min      0.000000e+00\n",
       "25%      1.100000e+03\n",
       "50%      2.950000e+03\n",
       "75%      7.200000e+03\n",
       "max      1.000000e+08\n",
       "Name: price_dollars, dtype: float64"
      ]
     },
     "execution_count": 14,
     "metadata": {},
     "output_type": "execute_result"
    }
   ],
   "source": [
    "autos[\"price_dollars\"].describe()"
   ]
  },
  {
   "cell_type": "code",
   "execution_count": 15,
   "metadata": {},
   "outputs": [
    {
     "data": {
      "text/plain": [
       "0     1421\n",
       "1      156\n",
       "2        3\n",
       "3        1\n",
       "5        2\n",
       "8        1\n",
       "9        1\n",
       "10       7\n",
       "11       2\n",
       "12       3\n",
       "Name: price_dollars, dtype: int64"
      ]
     },
     "execution_count": 15,
     "metadata": {},
     "output_type": "execute_result"
    }
   ],
   "source": [
    "autos[\"price_dollars\"].value_counts().sort_index(ascending=True).head(10)"
   ]
  },
  {
   "cell_type": "markdown",
   "metadata": {},
   "source": [
    "In the cells above, we can see the \"price_dollars\" column has 2357 unique values of price, with the some really strange outliers such as 0 (free cars) and (9999999+ dollars for car), which is absolute nonsense. By removing outliers, we can make our dataset more clean in order to provide accurate data analysis.\n",
    "\n",
    "To be persistent, we will remove rows with the price lower than \\\\$1000 and higher than \\\\$100000."
   ]
  },
  {
   "cell_type": "code",
   "execution_count": 7,
   "metadata": {},
   "outputs": [
    {
     "data": {
      "text/plain": [
       "(38587, 17)"
      ]
     },
     "execution_count": 7,
     "metadata": {},
     "output_type": "execute_result"
    }
   ],
   "source": [
    "average_autos = autos[\"price_dollars\"].between(1000, 100000, inclusive=True)\n",
    "autos = autos[average_autos]\n",
    "autos.shape"
   ]
  },
  {
   "cell_type": "code",
   "execution_count": 17,
   "metadata": {},
   "outputs": [
    {
     "data": {
      "text/plain": [
       "(13,)"
      ]
     },
     "execution_count": 17,
     "metadata": {},
     "output_type": "execute_result"
    }
   ],
   "source": [
    "autos[\"odometer_km\"].unique().shape"
   ]
  },
  {
   "cell_type": "code",
   "execution_count": 18,
   "metadata": {},
   "outputs": [
    {
     "data": {
      "text/plain": [
       "count     38587.000000\n",
       "mean     122859.771426\n",
       "std       40712.638070\n",
       "min        5000.000000\n",
       "25%      100000.000000\n",
       "50%      150000.000000\n",
       "75%      150000.000000\n",
       "max      150000.000000\n",
       "Name: odometer_km, dtype: float64"
      ]
     },
     "execution_count": 18,
     "metadata": {},
     "output_type": "execute_result"
    }
   ],
   "source": [
    "autos[\"odometer_km\"].describe()"
   ]
  },
  {
   "cell_type": "code",
   "execution_count": 8,
   "metadata": {},
   "outputs": [
    {
     "data": {
      "text/plain": [
       "5000        498\n",
       "10000       225\n",
       "20000       684\n",
       "30000       742\n",
       "40000       794\n",
       "50000       984\n",
       "60000      1097\n",
       "70000      1154\n",
       "80000      1333\n",
       "90000      1569\n",
       "100000     1858\n",
       "125000     4338\n",
       "150000    23311\n",
       "Name: odometer_km, dtype: int64"
      ]
     },
     "execution_count": 8,
     "metadata": {},
     "output_type": "execute_result"
    }
   ],
   "source": [
    "autos[\"odometer_km\"].value_counts().sort_index(ascending=True).head(13)"
   ]
  },
  {
   "cell_type": "markdown",
   "metadata": {},
   "source": [
    "**The values of the \"odometer_km\" column look acceptable. There are not strange outliers**"
   ]
  },
  {
   "cell_type": "markdown",
   "metadata": {},
   "source": [
    "Let's now move on to the date columns and understand the date range the data covers.\n",
    "\n",
    "There are 5 columns that should represent date values. Some of these columns were created by the crawler, some came from the website itself. We can differentiate by referring to the data dictionary:\n",
    "\n",
    "- `date_crawled`: added by the crawler\n",
    "- `last_seen`: added by the crawler\n",
    "- `ad_created`: from the website\n",
    "- `registration_month`: from the website\n",
    "- `registration_year`: from the website\n",
    "\n",
    "3 of these dates are identified as strings values by pandas. Because there are 3 columns representing dates in a string format, we need to convert it into a numerical format so we can understand it quantitatively. The others 2 values already represented as numeric values. "
   ]
  },
  {
   "cell_type": "code",
   "execution_count": 20,
   "metadata": {},
   "outputs": [
    {
     "data": {
      "text/html": [
       "<div>\n",
       "<style scoped>\n",
       "    .dataframe tbody tr th:only-of-type {\n",
       "        vertical-align: middle;\n",
       "    }\n",
       "\n",
       "    .dataframe tbody tr th {\n",
       "        vertical-align: top;\n",
       "    }\n",
       "\n",
       "    .dataframe thead th {\n",
       "        text-align: right;\n",
       "    }\n",
       "</style>\n",
       "<table border=\"1\" class=\"dataframe\">\n",
       "  <thead>\n",
       "    <tr style=\"text-align: right;\">\n",
       "      <th></th>\n",
       "      <th>date_crawled</th>\n",
       "      <th>last_seen</th>\n",
       "      <th>ad_created</th>\n",
       "    </tr>\n",
       "  </thead>\n",
       "  <tbody>\n",
       "    <tr>\n",
       "      <th>0</th>\n",
       "      <td>2016-03-26 17:47:46</td>\n",
       "      <td>2016-04-06 06:45:54</td>\n",
       "      <td>2016-03-26 00:00:00</td>\n",
       "    </tr>\n",
       "    <tr>\n",
       "      <th>1</th>\n",
       "      <td>2016-04-04 13:38:56</td>\n",
       "      <td>2016-04-06 14:45:08</td>\n",
       "      <td>2016-04-04 00:00:00</td>\n",
       "    </tr>\n",
       "    <tr>\n",
       "      <th>2</th>\n",
       "      <td>2016-03-26 18:57:24</td>\n",
       "      <td>2016-04-06 20:15:37</td>\n",
       "      <td>2016-03-26 00:00:00</td>\n",
       "    </tr>\n",
       "    <tr>\n",
       "      <th>3</th>\n",
       "      <td>2016-03-12 16:58:10</td>\n",
       "      <td>2016-03-15 03:16:28</td>\n",
       "      <td>2016-03-12 00:00:00</td>\n",
       "    </tr>\n",
       "    <tr>\n",
       "      <th>4</th>\n",
       "      <td>2016-04-01 14:38:50</td>\n",
       "      <td>2016-04-01 14:38:50</td>\n",
       "      <td>2016-04-01 00:00:00</td>\n",
       "    </tr>\n",
       "  </tbody>\n",
       "</table>\n",
       "</div>"
      ],
      "text/plain": [
       "          date_crawled            last_seen           ad_created\n",
       "0  2016-03-26 17:47:46  2016-04-06 06:45:54  2016-03-26 00:00:00\n",
       "1  2016-04-04 13:38:56  2016-04-06 14:45:08  2016-04-04 00:00:00\n",
       "2  2016-03-26 18:57:24  2016-04-06 20:15:37  2016-03-26 00:00:00\n",
       "3  2016-03-12 16:58:10  2016-03-15 03:16:28  2016-03-12 00:00:00\n",
       "4  2016-04-01 14:38:50  2016-04-01 14:38:50  2016-04-01 00:00:00"
      ]
     },
     "execution_count": 20,
     "metadata": {},
     "output_type": "execute_result"
    }
   ],
   "source": [
    "autos[[\"date_crawled\", \"last_seen\", \"ad_created\"]][0:5]"
   ]
  },
  {
   "cell_type": "markdown",
   "metadata": {},
   "source": [
    "The date format of all 3 columns is yyyy-mm-dd HH:MM:SS, however the \"ad_created\" columns has no time inputs. So the date would be formated according to yyyy-mm-dd format, without the specific time."
   ]
  },
  {
   "cell_type": "code",
   "execution_count": 9,
   "metadata": {},
   "outputs": [
    {
     "data": {
      "text/plain": [
       "2016-03-05 14:06:30    0.000026\n",
       "2016-03-05 14:06:40    0.000026\n",
       "2016-03-05 14:07:21    0.000026\n",
       "2016-03-05 14:07:26    0.000026\n",
       "2016-03-05 14:07:40    0.000026\n",
       "Name: date_crawled, dtype: float64"
      ]
     },
     "execution_count": 9,
     "metadata": {},
     "output_type": "execute_result"
    }
   ],
   "source": [
    "autos[\"date_crawled\"].value_counts(normalize=True, dropna=False).sort_index(ascending=True).head(5)"
   ]
  },
  {
   "cell_type": "markdown",
   "metadata": {},
   "source": [
    "In the cell above, we can see that the distribution of values in percentages, the mode is 0.000026 and the average is 0.000032."
   ]
  },
  {
   "cell_type": "code",
   "execution_count": 22,
   "metadata": {},
   "outputs": [
    {
     "data": {
      "text/plain": [
       "count    38587.000000\n",
       "mean      2005.680125\n",
       "std         86.727780\n",
       "min       1000.000000\n",
       "25%       2001.000000\n",
       "50%       2005.000000\n",
       "75%       2009.000000\n",
       "max       9999.000000\n",
       "Name: registration_year, dtype: float64"
      ]
     },
     "execution_count": 22,
     "metadata": {},
     "output_type": "execute_result"
    }
   ],
   "source": [
    "autos[\"registration_year\"].describe()"
   ]
  },
  {
   "cell_type": "markdown",
   "metadata": {},
   "source": [
    "There are 38587 different values of registration_year, the earliest registered car dated in 1000 (which is outlier) and the latest registered in 9999 (which in not possible), all values less than 1960 and 2016 will be removed for better readability."
   ]
  },
  {
   "cell_type": "code",
   "execution_count": 10,
   "metadata": {},
   "outputs": [
    {
     "data": {
      "text/plain": [
       "(37129, 17)"
      ]
     },
     "execution_count": 10,
     "metadata": {},
     "output_type": "execute_result"
    }
   ],
   "source": [
    "autos_registered = autos[\"registration_year\"].between(1960, 2016, inclusive=True)\n",
    "autos = autos[autos_registered]\n",
    "autos.shape"
   ]
  },
  {
   "cell_type": "code",
   "execution_count": 11,
   "metadata": {},
   "outputs": [
    {
     "data": {
      "text/plain": [
       "1960    0.000458\n",
       "1961    0.000162\n",
       "1962    0.000108\n",
       "1963    0.000215\n",
       "1964    0.000242\n",
       "1965    0.000458\n",
       "1966    0.000566\n",
       "1967    0.000673\n",
       "1968    0.000673\n",
       "1969    0.000485\n",
       "1970    0.000862\n",
       "1971    0.000646\n",
       "1972    0.000808\n",
       "1973    0.000619\n",
       "1974    0.000619\n",
       "1975    0.000485\n",
       "1976    0.000566\n",
       "1977    0.000512\n",
       "1978    0.001104\n",
       "1979    0.000835\n",
       "1980    0.001912\n",
       "1981    0.000700\n",
       "1982    0.001023\n",
       "1983    0.001347\n",
       "1984    0.001266\n",
       "1985    0.002128\n",
       "1986    0.001508\n",
       "1987    0.001374\n",
       "1988    0.002828\n",
       "1989    0.003313\n",
       "1990    0.005090\n",
       "1991    0.005575\n",
       "1992    0.005844\n",
       "1993    0.005871\n",
       "1994    0.007299\n",
       "1995    0.011904\n",
       "1996    0.014598\n",
       "1997    0.021169\n",
       "1998    0.034474\n",
       "1999    0.046433\n",
       "2000    0.053866\n",
       "2001    0.055590\n",
       "2002    0.057502\n",
       "2003    0.066713\n",
       "2004    0.070242\n",
       "2005    0.075009\n",
       "2006    0.071400\n",
       "2007    0.060815\n",
       "2008    0.059307\n",
       "2009    0.055913\n",
       "2010    0.042554\n",
       "2011    0.043524\n",
       "2012    0.035094\n",
       "2013    0.021304\n",
       "2014    0.017426\n",
       "2015    0.009615\n",
       "2016    0.017372\n",
       "Name: registration_year, dtype: float64"
      ]
     },
     "execution_count": 11,
     "metadata": {},
     "output_type": "execute_result"
    }
   ],
   "source": [
    "autos[\"registration_year\"].value_counts(normalize=True).sort_index(ascending=True)"
   ]
  },
  {
   "cell_type": "markdown",
   "metadata": {},
   "source": [
    "After the dataset has been filtered according to the price, we had 38587 rows. Now, after filtering the registration year, we have 37129 rows. The values mostly distributed between 1998 and 2012 years."
   ]
  },
  {
   "cell_type": "code",
   "execution_count": 25,
   "metadata": {},
   "outputs": [
    {
     "data": {
      "text/plain": [
       "volkswagen       7841\n",
       "bmw              4660\n",
       "mercedes_benz    4142\n",
       "audi             3630\n",
       "opel             3312\n",
       "ford             2177\n",
       "renault          1387\n",
       "peugeot          1038\n",
       "fiat              784\n",
       "skoda             709\n",
       "Name: brand, dtype: int64"
      ]
     },
     "execution_count": 25,
     "metadata": {},
     "output_type": "execute_result"
    }
   ],
   "source": [
    "autos[\"brand\"].value_counts().head(10)"
   ]
  },
  {
   "cell_type": "markdown",
   "metadata": {},
   "source": [
    "I have chosen the most frequent brands (top-10 listed above) and will look for their mean price."
   ]
  },
  {
   "cell_type": "code",
   "execution_count": 12,
   "metadata": {
    "scrolled": true
   },
   "outputs": [
    {
     "name": "stdout",
     "output_type": "stream",
     "text": [
      "Index(['volkswagen', 'bmw', 'mercedes_benz', 'audi', 'opel', 'ford', 'renault',\n",
      "       'peugeot', 'fiat', 'skoda'],\n",
      "      dtype='object')\n"
     ]
    }
   ],
   "source": [
    "brands = autos[\"brand\"].value_counts().head(10).index\n",
    "print(brands)"
   ]
  },
  {
   "cell_type": "code",
   "execution_count": 62,
   "metadata": {},
   "outputs": [],
   "source": [
    "popular_autos = []\n",
    "\n",
    "for index, row in autos.iterrows():\n",
    "    brand = row[11]\n",
    "    price = row[2]\n",
    "    odometer = row[8]\n",
    "    if brand in brands:\n",
    "        popular_autos.append([brand, price, odometer])\n",
    "\n",
    "autos_sum_price = {}\n",
    "autos_sum_odometer = {}\n",
    "autos_count = {}\n",
    "\n",
    "for value in popular_autos:\n",
    "    brand = value[0]\n",
    "    price = int(value[1])\n",
    "    odometer = int(value[2])\n",
    "    if brand in autos_count:\n",
    "        autos_count[brand] += 1\n",
    "        autos_sum_price[brand] += price\n",
    "        autos_sum_odometer[brand] += odometer\n",
    "    else:\n",
    "        autos_count[brand] = 1\n",
    "        autos_sum_price[brand] = price\n",
    "        autos_sum_odometer[brand] = odometer\n",
    "\n",
    "autos_mean_price = {}\n",
    "autos_mean_odometer = {}\n",
    "\n",
    "for brand in autos_count:\n",
    "    avg_price = autos_sum_price[brand]/autos_count[brand]\n",
    "    avg_odometer = autos_sum_odometer[brand]/autos_count[brand]\n",
    "    autos_mean_price[brand] = avg_price\n",
    "    autos_mean_odometer[brand] = avg_odometer"
   ]
  },
  {
   "cell_type": "markdown",
   "metadata": {},
   "source": [
    "In the cell above, the mean values of \"price\" and \"odometer_km\" are evaluated and defined in dictionaries. In the next 2 cells, the dictionaries are transformed into pandas.Series and merged together as a dataframe."
   ]
  },
  {
   "cell_type": "code",
   "execution_count": 67,
   "metadata": {},
   "outputs": [
    {
     "data": {
      "text/plain": [
       "peugeot          122341.040462\n",
       "bmw              132095.493562\n",
       "volkswagen       125765.846193\n",
       "ford             119839.228296\n",
       "audi             127524.793388\n",
       "renault          121423.936554\n",
       "mercedes_benz    130245.050700\n",
       "opel             123996.074879\n",
       "skoda            110063.469676\n",
       "fiat             107901.785714\n",
       "dtype: float64"
      ]
     },
     "execution_count": 67,
     "metadata": {},
     "output_type": "execute_result"
    }
   ],
   "source": [
    "bmp = pd.Series(autos_mean_price)\n",
    "bmo = pd.Series(autos_mean_odometer)\n",
    "bmo"
   ]
  },
  {
   "cell_type": "code",
   "execution_count": 68,
   "metadata": {},
   "outputs": [
    {
     "data": {
      "text/html": [
       "<div>\n",
       "<style scoped>\n",
       "    .dataframe tbody tr th:only-of-type {\n",
       "        vertical-align: middle;\n",
       "    }\n",
       "\n",
       "    .dataframe tbody tr th {\n",
       "        vertical-align: top;\n",
       "    }\n",
       "\n",
       "    .dataframe thead th {\n",
       "        text-align: right;\n",
       "    }\n",
       "</style>\n",
       "<table border=\"1\" class=\"dataframe\">\n",
       "  <thead>\n",
       "    <tr style=\"text-align: right;\">\n",
       "      <th></th>\n",
       "      <th>mean_price</th>\n",
       "      <th>mean_odometer</th>\n",
       "    </tr>\n",
       "  </thead>\n",
       "  <tbody>\n",
       "    <tr>\n",
       "      <th>peugeot</th>\n",
       "      <td>3955.169557</td>\n",
       "      <td>122341.040462</td>\n",
       "    </tr>\n",
       "    <tr>\n",
       "      <th>bmw</th>\n",
       "      <td>8974.562017</td>\n",
       "      <td>132095.493562</td>\n",
       "    </tr>\n",
       "    <tr>\n",
       "      <th>volkswagen</th>\n",
       "      <td>6640.999235</td>\n",
       "      <td>125765.846193</td>\n",
       "    </tr>\n",
       "    <tr>\n",
       "      <th>ford</th>\n",
       "      <td>5224.046394</td>\n",
       "      <td>119839.228296</td>\n",
       "    </tr>\n",
       "    <tr>\n",
       "      <th>audi</th>\n",
       "      <td>10276.903581</td>\n",
       "      <td>127524.793388</td>\n",
       "    </tr>\n",
       "    <tr>\n",
       "      <th>renault</th>\n",
       "      <td>3590.942322</td>\n",
       "      <td>121423.936554</td>\n",
       "    </tr>\n",
       "    <tr>\n",
       "      <th>mercedes_benz</th>\n",
       "      <td>9155.143892</td>\n",
       "      <td>130245.050700</td>\n",
       "    </tr>\n",
       "    <tr>\n",
       "      <th>opel</th>\n",
       "      <td>4218.230676</td>\n",
       "      <td>123996.074879</td>\n",
       "    </tr>\n",
       "    <tr>\n",
       "      <th>skoda</th>\n",
       "      <td>6836.696756</td>\n",
       "      <td>110063.469676</td>\n",
       "    </tr>\n",
       "    <tr>\n",
       "      <th>fiat</th>\n",
       "      <td>4008.174745</td>\n",
       "      <td>107901.785714</td>\n",
       "    </tr>\n",
       "  </tbody>\n",
       "</table>\n",
       "</div>"
      ],
      "text/plain": [
       "                 mean_price  mean_odometer\n",
       "peugeot         3955.169557  122341.040462\n",
       "bmw             8974.562017  132095.493562\n",
       "volkswagen      6640.999235  125765.846193\n",
       "ford            5224.046394  119839.228296\n",
       "audi           10276.903581  127524.793388\n",
       "renault         3590.942322  121423.936554\n",
       "mercedes_benz   9155.143892  130245.050700\n",
       "opel            4218.230676  123996.074879\n",
       "skoda           6836.696756  110063.469676\n",
       "fiat            4008.174745  107901.785714"
      ]
     },
     "execution_count": 68,
     "metadata": {},
     "output_type": "execute_result"
    }
   ],
   "source": [
    "bmv = {\"mean_price\": bmp, \"mean_odometer\": bmo}\n",
    "brand_values = pd.DataFrame(bmv)\n",
    "brand_values"
   ]
  },
  {
   "cell_type": "markdown",
   "metadata": {},
   "source": [
    "It clearly visible from the above that audi, mercedes_benz and bmw are the most expensive and the most durable cars since their mean_price and mean_odometer values are the highest as compared to the others. Opel, renault and fiat are the cheapest cars and their long-standing is questionable. Volkswagen and skoda somewhere between, however volkswagen cars are exploited longer compare to skoda cars."
   ]
  }
 ],
 "metadata": {
  "kernelspec": {
   "display_name": "Python 3",
   "language": "python",
   "name": "python3"
  },
  "language_info": {
   "codemirror_mode": {
    "name": "ipython",
    "version": 3
   },
   "file_extension": ".py",
   "mimetype": "text/x-python",
   "name": "python",
   "nbconvert_exporter": "python",
   "pygments_lexer": "ipython3",
   "version": "3.7.3"
  }
 },
 "nbformat": 4,
 "nbformat_minor": 2
}
